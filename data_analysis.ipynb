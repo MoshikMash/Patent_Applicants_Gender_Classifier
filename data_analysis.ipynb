{
 "cells": [
  {
   "cell_type": "code",
   "execution_count": 2,
   "id": "a84b0e41",
   "metadata": {},
   "outputs": [],
   "source": [
    "import pandas as pd\n",
    "from tqdm import tqdm\n",
    "from sklearn.ensemble import RandomForestClassifier\n",
    "from imblearn.under_sampling import RandomUnderSampler\n",
    "import json\n",
    "import pickle\n",
    "from sklearn.metrics import classification_report\n",
    "from sklearn.model_selection import train_test_split\n",
    "import matplotlib.pyplot as plt\n",
    "import seaborn as sns"
   ]
  },
  {
   "cell_type": "code",
   "execution_count": 3,
   "id": "23e2054b",
   "metadata": {},
   "outputs": [],
   "source": [
    "config_path = \"configs/base_config.json\"\n",
    "with open(config_path) as f:\n",
    "    config = json.load(f)"
   ]
  },
  {
   "cell_type": "code",
   "execution_count": null,
   "id": "0877d4f2",
   "metadata": {},
   "outputs": [],
   "source": [
    "with open(config['paths']['topic_modeling_feature_vector_path'], 'rb') as handle:\n",
    "    feature_vector = pickle.load(handle)"
   ]
  },
  {
   "cell_type": "code",
   "execution_count": null,
   "id": "e9d1bcda",
   "metadata": {},
   "outputs": [],
   "source": [
    "df = pd.read_csv(config['paths']['all_data_path'])"
   ]
  },
  {
   "cell_type": "code",
   "execution_count": null,
   "id": "155dbd99",
   "metadata": {},
   "outputs": [],
   "source": [
    "df.head()"
   ]
  },
  {
   "cell_type": "code",
   "execution_count": null,
   "id": "3db44ae6",
   "metadata": {},
   "outputs": [],
   "source": [
    "import matplotlib.pyplot as plt\n",
    "\n",
    "# Number of features\n",
    "features = [ 'kinkade',\n",
    " 'word_count',\n",
    " 'char_count',\n",
    " 'median_word_length',\n",
    " 'avg_word_length',\n",
    " 'skew_word_length',\n",
    " 'characters_per_word',\n",
    " 'syll_per_word',\n",
    " 'words_per_sentence',\n",
    " 'sentences_per_paragraph',\n",
    " 'type_token_ratio',\n",
    " 'syllables',\n",
    " 'sentences',\n",
    " 'long_words',\n",
    " 'complex_words']\n",
    "\n",
    "# Map 0 and 1 to 'female' and 'male'\n",
    "df['gender'] = df['one_if_male'].map({0: 'female', 1: 'male'})\n",
    "\n",
    "# Number of features\n",
    "# Setting up the grid size\n",
    "nrows = 5\n",
    "ncols = 3\n",
    "\n",
    "# Creating subplots\n",
    "fig, axes = plt.subplots(nrows=nrows, ncols=ncols, figsize=(15, 15))\n",
    "\n",
    "# Flatten the axes array for easy iteration\n",
    "axes = axes.flatten()\n",
    "\n",
    "# Plotting each feature in the grid\n",
    "for i, feature in enumerate(features):\n",
    "    df.boxplot(column=feature, by='gender', ax=axes[i], showfliers=False)\n",
    "    axes[i].set_title(feature)\n",
    "    axes[i].set_xlabel('')\n",
    "    axes[i].set_ylabel('Value')\n",
    "    axes[i].tick_params(axis='both', which='major', labelsize=8)\n",
    "\n",
    "# Remove any empty subplots\n",
    "for j in range(i + 1, len(axes)):\n",
    "    fig.delaxes(axes[j])\n",
    "\n",
    "# Adjust layout and add overall title\n",
    "plt.tight_layout(rect=[0, 0, 1, 0.95])\n",
    "plt.suptitle('Gender-Based Analysis of Textual Characteristics', fontsize=16)\n",
    "\n",
    "plt.show()"
   ]
  },
  {
   "cell_type": "code",
   "execution_count": null,
   "id": "9a22c191",
   "metadata": {},
   "outputs": [],
   "source": [
    "import matplotlib.pyplot as plt\n",
    "\n",
    "# Number of features\n",
    "features = [\n",
    " 'kinkade',\n",
    " 'word_count',\n",
    " 'char_count',\n",
    " 'median_word_length',\n",
    " 'avg_word_length',\n",
    " 'skew_word_length',\n",
    " 'characters_per_word',\n",
    " 'syll_per_word',\n",
    " 'words_per_sentence',\n",
    " 'sentences_per_paragraph',\n",
    " 'type_token_ratio',\n",
    " 'syllables',\n",
    " 'sentences',\n",
    " 'long_words',\n",
    " 'complex_words']\n",
    "\n",
    "# Map 0 and 1 to 'female' and 'male'\n",
    "df['gender'] = df['one_if_male'].map({0: 'female', 1: 'male'})\n",
    "\n",
    "# Number of features\n",
    "# Setting up the grid size\n",
    "nrows = 5\n",
    "ncols = 3\n",
    "\n",
    "# Creating subplots\n",
    "fig, axes = plt.subplots(nrows=nrows, ncols=ncols, figsize=(15, 15))\n",
    "\n",
    "# Flatten the axes array for easy iteration\n",
    "axes = axes.flatten()\n",
    "\n",
    "# Plotting each feature in the grid\n",
    "for i, feature in enumerate(features):\n",
    "    df.boxplot(column=feature, by='gender', ax=axes[i], showfliers=False)\n",
    "    axes[i].set_title(feature)\n",
    "    axes[i].set_xlabel('')\n",
    "    axes[i].set_ylabel('Value')\n",
    "    axes[i].tick_params(axis='both', which='major', labelsize=8)\n",
    "    \n",
    "    # Calculate medians\n",
    "    medians = df.groupby('gender')[feature].median()\n",
    "    \n",
    "    # Annotate medians\n",
    "    for gender in medians.index:\n",
    "        median_val = medians[gender]\n",
    "        x = 1 if gender == 'female' else 2\n",
    "        axes[i].text(x, median_val, f'{median_val:.2f}', horizontalalignment='center')\n",
    "\n",
    "# Remove any empty subplots\n",
    "for j in range(i + 1, len(axes)):\n",
    "    fig.delaxes(axes[j])\n",
    "\n",
    "# Adjust layout and add overall title\n",
    "plt.tight_layout(rect=[0, 0, 1, 0.95])\n",
    "plt.suptitle('Gender-Based Analysis of Textual Characteristics', fontsize=16)\n",
    "\n",
    "plt.show()\n"
   ]
  },
  {
   "cell_type": "code",
   "execution_count": null,
   "id": "79ce3268",
   "metadata": {},
   "outputs": [],
   "source": [
    "'Parent_Catgeory' in feature_vector"
   ]
  },
  {
   "cell_type": "code",
   "execution_count": null,
   "id": "3ff44627",
   "metadata": {},
   "outputs": [],
   "source": [
    "df = pd.read_csv('data/df_with_topic_features.csv')"
   ]
  },
  {
   "cell_type": "code",
   "execution_count": null,
   "id": "18005209",
   "metadata": {},
   "outputs": [],
   "source": [
    "df.head()"
   ]
  },
  {
   "cell_type": "code",
   "execution_count": null,
   "id": "2db402a1",
   "metadata": {},
   "outputs": [],
   "source": [
    "df['Parent_Catgeory'].value_counts()"
   ]
  },
  {
   "cell_type": "code",
   "execution_count": null,
   "id": "3219b870",
   "metadata": {},
   "outputs": [],
   "source": [
    "df_cat = df[df['Parent_Catgeory'] == 'Mech_Engr']"
   ]
  },
  {
   "cell_type": "code",
   "execution_count": null,
   "id": "a7d05b22",
   "metadata": {},
   "outputs": [],
   "source": [
    "# RF\n",
    "target = df_cat['one_if_male']\n",
    "# Step 1: Perform undersampling\n",
    "undersampler = RandomUnderSampler(random_state=config['random_state'])\n",
    "\n",
    "X_resampled, y_resampled = undersampler.fit_resample(df_cat[feature_vector], target)\n",
    "\n",
    "# Step 2: Split the data into train and test sets\n",
    "X_train, X_test, y_train, y_test = train_test_split(X_resampled, y_resampled, test_size=config['test_size'],\n",
    "                                                    random_state=config['random_state'])\n",
    "\n",
    "# Step 3: Train a random forest classifier\n",
    "rf_classifier = RandomForestClassifier()\n",
    "rf_classifier.fit(X_train, y_train)\n",
    "\n",
    "# Step 4: Make predictions on the test set\n",
    "y_pred = rf_classifier.predict(X_test)\n",
    "\n",
    "# Step 5: Evaluate the performance of the model\n",
    "print(classification_report(y_test, y_pred))"
   ]
  },
  {
   "cell_type": "code",
   "execution_count": null,
   "id": "d94a4b01",
   "metadata": {},
   "outputs": [],
   "source": [
    "df = df[['Parent_Catgeory', 'uspc_class']]"
   ]
  },
  {
   "cell_type": "code",
   "execution_count": null,
   "id": "71e24455",
   "metadata": {},
   "outputs": [],
   "source": [
    "df = df[df['Parent_Catgeory'].isin([\"Mech_Engr\", \"Trans\"])]"
   ]
  },
  {
   "cell_type": "code",
   "execution_count": null,
   "id": "00881f97",
   "metadata": {},
   "outputs": [],
   "source": [
    "df.head()"
   ]
  },
  {
   "cell_type": "code",
   "execution_count": null,
   "id": "a5e84123",
   "metadata": {},
   "outputs": [],
   "source": [
    "category_counts = df.groupby('uspc_class')['Parent_Catgeory'].nunique().reset_index()\n",
    "category_counts"
   ]
  },
  {
   "cell_type": "code",
   "execution_count": null,
   "id": "b08b1e70",
   "metadata": {},
   "outputs": [],
   "source": [
    "len(category_counts[category_counts['Parent_Catgeory'] > 1])"
   ]
  },
  {
   "cell_type": "code",
   "execution_count": null,
   "id": "3b2bc199",
   "metadata": {},
   "outputs": [],
   "source": [
    "len(category_counts)"
   ]
  },
  {
   "cell_type": "code",
   "execution_count": null,
   "id": "e89f2fed",
   "metadata": {
    "scrolled": true
   },
   "outputs": [],
   "source": [
    "min_val = 0\n",
    "for uspc_class in tqdm(df['uspc_class'].unique()):\n",
    "    min_val += df[df['uspc_class'] == uspc_class]['Parent_Catgeory'].value_counts().min()"
   ]
  },
  {
   "cell_type": "code",
   "execution_count": null,
   "id": "37e42c22",
   "metadata": {},
   "outputs": [],
   "source": [
    "min_val"
   ]
  },
  {
   "cell_type": "code",
   "execution_count": null,
   "id": "53cb9548",
   "metadata": {},
   "outputs": [],
   "source": [
    "min_val / len(df)"
   ]
  },
  {
   "cell_type": "code",
   "execution_count": null,
   "id": "0cb81bd1",
   "metadata": {},
   "outputs": [],
   "source": [
    "df = pd.read_csv('data/df_with_topic_features.csv')"
   ]
  },
  {
   "cell_type": "code",
   "execution_count": null,
   "id": "913a905b",
   "metadata": {},
   "outputs": [],
   "source": [
    "df.shap"
   ]
  },
  {
   "cell_type": "code",
   "execution_count": null,
   "id": "8c3e6ef3",
   "metadata": {},
   "outputs": [],
   "source": [
    "list(df)"
   ]
  },
  {
   "cell_type": "code",
   "execution_count": null,
   "id": "b1d48004",
   "metadata": {},
   "outputs": [],
   "source": [
    "df = pd.read_csv(config['paths']['data_with_clusters_tf_idf_path'])"
   ]
  },
  {
   "cell_type": "code",
   "execution_count": null,
   "id": "b60b30b9",
   "metadata": {},
   "outputs": [],
   "source": [
    "df = df[df['one_if_pending'] == 0]"
   ]
  },
  {
   "cell_type": "code",
   "execution_count": null,
   "id": "72c3e115",
   "metadata": {},
   "outputs": [],
   "source": [
    "df.head()"
   ]
  },
  {
   "cell_type": "code",
   "execution_count": null,
   "id": "993bfe31",
   "metadata": {},
   "outputs": [],
   "source": [
    "# Settings\n",
    "women_thresholds = list(range(40, 91, 10))\n",
    "rejection_thresholds = list(range(40, 91, 10))\n",
    "\n",
    "# Prepare plot data\n",
    "plot_data = pd.DataFrame(index=rejection_thresholds, columns=women_thresholds)\n",
    "\n",
    "for women_thresh in women_thresholds:\n",
    "    # Calculate clusters with at least women_thresh% women\n",
    "    clusters_with_women = df.groupby('Cluster').apply(\n",
    "        lambda x: pd.Series({\n",
    "            'percent_women': (x['one_if_male'] == 0).mean() * 100,\n",
    "            'percent_rejects': (x['one_if_patented'] == 0).mean() * 100\n",
    "        })\n",
    "    ).query(f'percent_women >= {women_thresh}')\n",
    "\n",
    "    # Evaluate clusters based on varying rejection thresholds\n",
    "    for rejection_thresh in rejection_thresholds:\n",
    "        qualified_clusters = clusters_with_women[clusters_with_women['percent_rejects'] >= rejection_thresh]\n",
    "        plot_data.loc[rejection_thresh, women_thresh] = len(qualified_clusters)\n",
    "\n",
    "# Plotting\n",
    "plt.figure(figsize=(12, 8))\n",
    "for col in plot_data.columns:\n",
    "    plt.plot(plot_data.index, plot_data[col], label=f'At least {col}% women')\n",
    "\n",
    "plt.xlabel('Minimum % of Rejections')\n",
    "plt.ylabel('Number of Clusters')\n",
    "plt.title('Number of Clusters by Women Percentage and Rejection Thresholds')\n",
    "plt.legend(title='Women % Threshold')\n",
    "plt.grid(True)\n",
    "plt.show()"
   ]
  },
  {
   "cell_type": "code",
   "execution_count": null,
   "id": "aab007aa",
   "metadata": {},
   "outputs": [],
   "source": [
    "# Prepare DataFrame to hold the number of rows per cluster for each threshold\n",
    "results_df = pd.DataFrame()\n",
    "\n",
    "# Calculate cluster metrics\n",
    "cluster_metrics = df.groupby('Cluster').apply(\n",
    "    lambda x: pd.Series({\n",
    "        'percent_women': (x['one_if_male'] == 0).mean() * 100,\n",
    "        'percent_rejects': (x['one_if_patented'] == 0).mean() * 100,\n",
    "        'total_rows': len(x)\n",
    "    })\n",
    ")\n",
    "\n",
    "# Filter clusters based on thresholds and count rows\n",
    "for women_thresh in women_thresholds:\n",
    "    for rejection_thresh in rejection_thresholds:\n",
    "        # Identify clusters that meet current thresholds\n",
    "        qualified_clusters = cluster_metrics[\n",
    "            (cluster_metrics['percent_women'] >= women_thresh) & \n",
    "            (cluster_metrics['percent_rejects'] >= rejection_thresh)\n",
    "        ]\n",
    "        \n",
    "        # Sum total rows in these clusters\n",
    "        total_rows = qualified_clusters['total_rows'].sum()\n",
    "        \n",
    "        # Append results\n",
    "        results_df = results_df.append({\n",
    "            'Women_Threshold': women_thresh,\n",
    "            'Rejection_Threshold': rejection_thresh,\n",
    "            'Total_Rows': total_rows\n",
    "        }, ignore_index=True)\n",
    "\n",
    "# Adjust column data types if necessary\n",
    "results_df = results_df.astype({\n",
    "    'Women_Threshold': 'int',\n",
    "    'Rejection_Threshold': 'int',\n",
    "    'Total_Rows': 'int'\n",
    "})\n",
    "\n",
    "# Display the DataFrame\n",
    "results_df.to_csv('women_clusters.csv')"
   ]
  },
  {
   "cell_type": "code",
   "execution_count": null,
   "id": "9d2e25cb",
   "metadata": {},
   "outputs": [],
   "source": [
    "# Calculate the percentage of women and filter clusters with at least 40% women\n",
    "min_women = 80\n",
    "clusters_with_women = df.groupby('Cluster').apply(\n",
    "    lambda x: pd.Series({\n",
    "        'percent_women': (x['one_if_male'] == 0).mean() * 100,\n",
    "        'percent_rejects': (x['one_if_patented'] == 0).mean() * 100\n",
    "    })\n",
    ").query(f'percent_women >= {min_women}')\n",
    "\n",
    "# Evaluate clusters based on varying rejection thresholds (10% to 100%)\n",
    "rejection_thresholds = list(range(10, 101, 10))\n",
    "results = {threshold: [] for threshold in rejection_thresholds}\n",
    "for threshold in rejection_thresholds:\n",
    "    results[threshold] = clusters_with_women[clusters_with_women['percent_rejects'] >= threshold].index.tolist()\n",
    "\n",
    "# Plotting the results\n",
    "fig, ax = plt.subplots(figsize=(12, 8))\n",
    "bar_width = 0.35\n",
    "opacity = 0.8\n",
    "\n",
    "bars = []\n",
    "for i, threshold in enumerate(rejection_thresholds):\n",
    "    bar = ax.bar(i, len(results[threshold]), bar_width, alpha=opacity, label=f'At least {threshold}% rejections')\n",
    "    bars.append(bar)\n",
    "\n",
    "ax.set_xlabel('Rejection Thresholds (%)')\n",
    "ax.set_ylabel('Number of Clusters')\n",
    "ax.set_title(f'Clusters with At Least {min_women}% Women and Varying Rejection Percentages')\n",
    "ax.set_xticks(range(len(rejection_thresholds)))\n",
    "ax.set_xticklabels([f'≥{x}%' for x in rejection_thresholds])\n",
    "ax.legend()\n",
    "\n",
    "# Adding data labels\n",
    "for bar in bars:\n",
    "    for rect in bar:\n",
    "        height = rect.get_height()\n",
    "        ax.annotate('{}'.format(height),\n",
    "                    xy=(rect.get_x() + rect.get_width() / 2, height),\n",
    "                    xytext=(0, 3),  # 3 points vertical offset\n",
    "                    textcoords=\"offset points\",\n",
    "                    ha='center', va='bottom')\n",
    "\n",
    "plt.tight_layout()\n",
    "plt.show()"
   ]
  },
  {
   "cell_type": "code",
   "execution_count": null,
   "id": "5d99ddce",
   "metadata": {},
   "outputs": [],
   "source": [
    "result_df = pd.read_csv(config['paths']['df_with_topic_features_path'])\n",
    "with open(config['paths']['topic_modeling_feature_vector_path'], 'rb') as handle:\n",
    "    feature_vector = pickle.load(handle)"
   ]
  },
  {
   "cell_type": "code",
   "execution_count": null,
   "id": "125a2dbf",
   "metadata": {},
   "outputs": [],
   "source": [
    "[x for x in feature_vector if x not in list(result_df)]"
   ]
  },
  {
   "cell_type": "code",
   "execution_count": null,
   "id": "2675e097",
   "metadata": {},
   "outputs": [],
   "source": [
    "[x for x in list(result_df) if x not in list(result_df)]"
   ]
  },
  {
   "cell_type": "code",
   "execution_count": null,
   "id": "81dacbb8",
   "metadata": {},
   "outputs": [],
   "source": [
    "result_df.head()"
   ]
  },
  {
   "cell_type": "code",
   "execution_count": null,
   "id": "9b2d2c63",
   "metadata": {},
   "outputs": [],
   "source": [
    "list(reversed(feature_vector))"
   ]
  },
  {
   "cell_type": "code",
   "execution_count": null,
   "id": "111c7573",
   "metadata": {},
   "outputs": [],
   "source": [
    "le = LabelEncoder()\n",
    "result_df['Parent_Catgeory']."
   ]
  },
  {
   "cell_type": "code",
   "execution_count": null,
   "id": "ae84ac67",
   "metadata": {},
   "outputs": [],
   "source": [
    "with open(config['paths']['topic_modeling_rf_classifier_path'], 'rb') as handle:\n",
    "    classifier = pickle.load(handle)"
   ]
  },
  {
   "cell_type": "code",
   "execution_count": null,
   "id": "271c0128",
   "metadata": {},
   "outputs": [],
   "source": [
    "classifier.feature_importances_"
   ]
  },
  {
   "cell_type": "code",
   "execution_count": null,
   "id": "772e0f70",
   "metadata": {},
   "outputs": [],
   "source": [
    "with open(config['paths']['embeddings_reduced_path'], 'rb') as handle:\n",
    "    embed = pickle.load(handle)"
   ]
  },
  {
   "cell_type": "code",
   "execution_count": null,
   "id": "b6c2dc55",
   "metadata": {},
   "outputs": [],
   "source": [
    "embed[0]"
   ]
  },
  {
   "cell_type": "code",
   "execution_count": null,
   "id": "d712450f",
   "metadata": {},
   "outputs": [],
   "source": [
    "embed.shape"
   ]
  },
  {
   "cell_type": "code",
   "execution_count": null,
   "id": "c5093df7",
   "metadata": {},
   "outputs": [],
   "source": [
    "df1 = pd.read_csv('results/topic_modeling/feature_importances.csv')"
   ]
  },
  {
   "cell_type": "code",
   "execution_count": null,
   "id": "7522dd3d",
   "metadata": {},
   "outputs": [],
   "source": [
    "feature_vector = list(df1['Feature'][:10])\n",
    "feature_vector.append('one_if_patented')"
   ]
  },
  {
   "cell_type": "code",
   "execution_count": 1,
   "id": "eab34bc9",
   "metadata": {},
   "outputs": [
    {
     "ename": "NameError",
     "evalue": "name 'pd' is not defined",
     "output_type": "error",
     "traceback": [
      "\u001b[1;31m---------------------------------------------------------------------------\u001b[0m",
      "\u001b[1;31mNameError\u001b[0m                                 Traceback (most recent call last)",
      "\u001b[1;32m~\\AppData\\Local\\Temp\\ipykernel_31268\\128715125.py\u001b[0m in \u001b[0;36m<module>\u001b[1;34m\u001b[0m\n\u001b[1;32m----> 1\u001b[1;33m \u001b[0mdata\u001b[0m \u001b[1;33m=\u001b[0m \u001b[0mpd\u001b[0m\u001b[1;33m.\u001b[0m\u001b[0mread_csv\u001b[0m\u001b[1;33m(\u001b[0m\u001b[1;34m'data/data_topping_modeling_train_set.csv'\u001b[0m\u001b[1;33m)\u001b[0m\u001b[1;33m\u001b[0m\u001b[1;33m\u001b[0m\u001b[0m\n\u001b[0m",
      "\u001b[1;31mNameError\u001b[0m: name 'pd' is not defined"
     ]
    }
   ],
   "source": [
    "data = pd.read_csv('data/data_topping_modeling_train_set.csv')"
   ]
  },
  {
   "cell_type": "code",
   "execution_count": null,
   "id": "17da2596",
   "metadata": {},
   "outputs": [],
   "source": [
    "df = data[feature_vector]"
   ]
  },
  {
   "cell_type": "code",
   "execution_count": null,
   "id": "6eb40583",
   "metadata": {},
   "outputs": [],
   "source": [
    "df.head()"
   ]
  },
  {
   "cell_type": "code",
   "execution_count": null,
   "id": "3eac9065",
   "metadata": {},
   "outputs": [],
   "source": [
    "df['one_if_patented'] = df['one_if_patented'].replace({0: 'Rejected', 1: 'Accepted'})"
   ]
  },
  {
   "cell_type": "code",
   "execution_count": null,
   "id": "d414c595",
   "metadata": {},
   "outputs": [],
   "source": [
    "# Correcting the plotting logic to ensure the correct number of subplots and titles\n",
    "fig, axes = plt.subplots(nrows=5, ncols=2, figsize=(15, 20))\n",
    "\n",
    "for i, feature in enumerate(features):\n",
    "    ax = axes[i // 2, i % 2]\n",
    "    df.boxplot(column=feature, by='one_if_patented', ax=ax)\n",
    "    ax.set_title(f'{feature} by Patent Status')\n",
    "    ax.set_xlabel('Acceptance Rate')\n",
    "    ax.set_ylabel(feature)\n",
    "\n",
    "plt.suptitle('')  # Removing the default title to avoid clutter\n",
    "plt.tight_layout()\n",
    "plt.show()"
   ]
  },
  {
   "cell_type": "code",
   "execution_count": null,
   "id": "c4c8bc4f",
   "metadata": {},
   "outputs": [],
   "source": [
    "temp = df[df['one_if_patented'] == 'Accepted']\n",
    "temp['type_token_ratio'].mean()"
   ]
  },
  {
   "cell_type": "code",
   "execution_count": null,
   "id": "19447657",
   "metadata": {},
   "outputs": [],
   "source": [
    "temp = df[df['one_if_patented'] == 'Rejected']\n",
    "temp['type_token_ratio'].mean()"
   ]
  },
  {
   "cell_type": "code",
   "execution_count": 46,
   "id": "d4dec4fa",
   "metadata": {},
   "outputs": [
    {
     "name": "stderr",
     "output_type": "stream",
     "text": [
      "C:\\Users\\moshi\\AppData\\Local\\Temp\\ipykernel_31268\\2895979024.py:2: DtypeWarning: Columns (1) have mixed types. Specify dtype option on import or set low_memory=False.\n",
      "  df_all_data = pd.read_csv(config['paths']['data_path'])\n"
     ]
    }
   ],
   "source": [
    "df = pd.read_csv(config['paths']['df_sentences_sbert_with_clusters_path'])\n",
    "df_all_data = pd.read_csv(config['paths']['data_path'])"
   ]
  },
  {
   "cell_type": "code",
   "execution_count": 47,
   "id": "2b2838fc",
   "metadata": {},
   "outputs": [],
   "source": [
    "rus = RandomUnderSampler(random_state=config['random_state'])\n",
    "X_resampled, y_resampled = rus.fit_resample(df_all_data, df_all_data['one_if_male'])\n",
    "X_resampled['one_if_male'] = y_resampled\n",
    "df_all_data = X_resampled"
   ]
  },
  {
   "cell_type": "code",
   "execution_count": 49,
   "id": "3bc6b53e",
   "metadata": {},
   "outputs": [],
   "source": [
    "df = df[['application_number', 'cluster_id']]"
   ]
  },
  {
   "cell_type": "code",
   "execution_count": 50,
   "id": "8c2d1d79",
   "metadata": {},
   "outputs": [],
   "source": [
    "df = df.drop_duplicates()"
   ]
  },
  {
   "cell_type": "code",
   "execution_count": 51,
   "id": "d688468e",
   "metadata": {},
   "outputs": [
    {
     "data": {
      "text/html": [
       "<div>\n",
       "<style scoped>\n",
       "    .dataframe tbody tr th:only-of-type {\n",
       "        vertical-align: middle;\n",
       "    }\n",
       "\n",
       "    .dataframe tbody tr th {\n",
       "        vertical-align: top;\n",
       "    }\n",
       "\n",
       "    .dataframe thead th {\n",
       "        text-align: right;\n",
       "    }\n",
       "</style>\n",
       "<table border=\"1\" class=\"dataframe\">\n",
       "  <thead>\n",
       "    <tr style=\"text-align: right;\">\n",
       "      <th></th>\n",
       "      <th>application_number</th>\n",
       "      <th>uspc_class</th>\n",
       "      <th>one_if_male</th>\n",
       "      <th>one_if_female</th>\n",
       "      <th>filing_year</th>\n",
       "      <th>one_if_patented</th>\n",
       "      <th>one_if_abandoned</th>\n",
       "      <th>one_if_pending</th>\n",
       "      <th>one_if_small</th>\n",
       "      <th>Biotechnology</th>\n",
       "      <th>...</th>\n",
       "      <th>words_per_sentence</th>\n",
       "      <th>sentences_per_paragraph</th>\n",
       "      <th>type_token_ratio</th>\n",
       "      <th>syllables</th>\n",
       "      <th>sentences</th>\n",
       "      <th>long_words</th>\n",
       "      <th>complex_words</th>\n",
       "      <th>Gender_Target</th>\n",
       "      <th>Patent_Target</th>\n",
       "      <th>Parent_Catgeory</th>\n",
       "    </tr>\n",
       "  </thead>\n",
       "  <tbody>\n",
       "    <tr>\n",
       "      <th>1</th>\n",
       "      <td>15610347</td>\n",
       "      <td>248</td>\n",
       "      <td>0</td>\n",
       "      <td>1</td>\n",
       "      <td>2017</td>\n",
       "      <td>1</td>\n",
       "      <td>0</td>\n",
       "      <td>0</td>\n",
       "      <td>1</td>\n",
       "      <td>0</td>\n",
       "      <td>...</td>\n",
       "      <td>26.250000</td>\n",
       "      <td>4.0</td>\n",
       "      <td>0.676190</td>\n",
       "      <td>158.0</td>\n",
       "      <td>4.0</td>\n",
       "      <td>31.0</td>\n",
       "      <td>17.0</td>\n",
       "      <td>Female</td>\n",
       "      <td>patented</td>\n",
       "      <td>Trans</td>\n",
       "    </tr>\n",
       "    <tr>\n",
       "      <th>9</th>\n",
       "      <td>14182817</td>\n",
       "      <td>220</td>\n",
       "      <td>0</td>\n",
       "      <td>1</td>\n",
       "      <td>2014</td>\n",
       "      <td>1</td>\n",
       "      <td>0</td>\n",
       "      <td>0</td>\n",
       "      <td>1</td>\n",
       "      <td>0</td>\n",
       "      <td>...</td>\n",
       "      <td>25.166667</td>\n",
       "      <td>6.0</td>\n",
       "      <td>0.456954</td>\n",
       "      <td>269.0</td>\n",
       "      <td>6.0</td>\n",
       "      <td>57.0</td>\n",
       "      <td>46.0</td>\n",
       "      <td>Female</td>\n",
       "      <td>patented</td>\n",
       "      <td>Mech_Engr</td>\n",
       "    </tr>\n",
       "    <tr>\n",
       "      <th>30</th>\n",
       "      <td>14098334</td>\n",
       "      <td>607</td>\n",
       "      <td>0</td>\n",
       "      <td>1</td>\n",
       "      <td>2013</td>\n",
       "      <td>1</td>\n",
       "      <td>0</td>\n",
       "      <td>0</td>\n",
       "      <td>0</td>\n",
       "      <td>0</td>\n",
       "      <td>...</td>\n",
       "      <td>18.000000</td>\n",
       "      <td>8.0</td>\n",
       "      <td>0.430556</td>\n",
       "      <td>232.0</td>\n",
       "      <td>8.0</td>\n",
       "      <td>32.0</td>\n",
       "      <td>26.0</td>\n",
       "      <td>Female</td>\n",
       "      <td>patented</td>\n",
       "      <td>Mech_Engr</td>\n",
       "    </tr>\n",
       "    <tr>\n",
       "      <th>43</th>\n",
       "      <td>14199845</td>\n",
       "      <td>607</td>\n",
       "      <td>0</td>\n",
       "      <td>1</td>\n",
       "      <td>2014</td>\n",
       "      <td>1</td>\n",
       "      <td>0</td>\n",
       "      <td>0</td>\n",
       "      <td>0</td>\n",
       "      <td>0</td>\n",
       "      <td>...</td>\n",
       "      <td>96.000000</td>\n",
       "      <td>1.0</td>\n",
       "      <td>0.447917</td>\n",
       "      <td>167.0</td>\n",
       "      <td>1.0</td>\n",
       "      <td>26.0</td>\n",
       "      <td>26.0</td>\n",
       "      <td>Female</td>\n",
       "      <td>patented</td>\n",
       "      <td>Mech_Engr</td>\n",
       "    </tr>\n",
       "    <tr>\n",
       "      <th>45</th>\n",
       "      <td>16831125</td>\n",
       "      <td>604</td>\n",
       "      <td>0</td>\n",
       "      <td>1</td>\n",
       "      <td>2020</td>\n",
       "      <td>0</td>\n",
       "      <td>0</td>\n",
       "      <td>1</td>\n",
       "      <td>1</td>\n",
       "      <td>0</td>\n",
       "      <td>...</td>\n",
       "      <td>33.000000</td>\n",
       "      <td>4.0</td>\n",
       "      <td>0.386364</td>\n",
       "      <td>200.0</td>\n",
       "      <td>4.0</td>\n",
       "      <td>29.0</td>\n",
       "      <td>18.0</td>\n",
       "      <td>Female</td>\n",
       "      <td>pending</td>\n",
       "      <td>Mech_Engr</td>\n",
       "    </tr>\n",
       "  </tbody>\n",
       "</table>\n",
       "<p>5 rows × 37 columns</p>\n",
       "</div>"
      ],
      "text/plain": [
       "    application_number uspc_class  one_if_male  one_if_female  filing_year  \\\n",
       "1             15610347        248            0              1         2017   \n",
       "9             14182817        220            0              1         2014   \n",
       "30            14098334        607            0              1         2013   \n",
       "43            14199845        607            0              1         2014   \n",
       "45            16831125        604            0              1         2020   \n",
       "\n",
       "    one_if_patented  one_if_abandoned  one_if_pending  one_if_small  \\\n",
       "1                 1                 0               0             1   \n",
       "9                 1                 0               0             1   \n",
       "30                1                 0               0             0   \n",
       "43                1                 0               0             0   \n",
       "45                0                 0               1             1   \n",
       "\n",
       "    Biotechnology  ...  words_per_sentence  sentences_per_paragraph  \\\n",
       "1               0  ...           26.250000                      4.0   \n",
       "9               0  ...           25.166667                      6.0   \n",
       "30              0  ...           18.000000                      8.0   \n",
       "43              0  ...           96.000000                      1.0   \n",
       "45              0  ...           33.000000                      4.0   \n",
       "\n",
       "    type_token_ratio  syllables  sentences  long_words  complex_words  \\\n",
       "1           0.676190      158.0        4.0        31.0           17.0   \n",
       "9           0.456954      269.0        6.0        57.0           46.0   \n",
       "30          0.430556      232.0        8.0        32.0           26.0   \n",
       "43          0.447917      167.0        1.0        26.0           26.0   \n",
       "45          0.386364      200.0        4.0        29.0           18.0   \n",
       "\n",
       "   Gender_Target Patent_Target  Parent_Catgeory  \n",
       "1         Female      patented            Trans  \n",
       "9         Female      patented        Mech_Engr  \n",
       "30        Female      patented        Mech_Engr  \n",
       "43        Female      patented        Mech_Engr  \n",
       "45        Female       pending        Mech_Engr  \n",
       "\n",
       "[5 rows x 37 columns]"
      ]
     },
     "execution_count": 51,
     "metadata": {},
     "output_type": "execute_result"
    }
   ],
   "source": [
    "df_all_data.head()"
   ]
  },
  {
   "cell_type": "code",
   "execution_count": 52,
   "id": "d2160649",
   "metadata": {},
   "outputs": [
    {
     "data": {
      "text/plain": [
       "(184535, 2)"
      ]
     },
     "execution_count": 52,
     "metadata": {},
     "output_type": "execute_result"
    }
   ],
   "source": [
    "df.shape"
   ]
  },
  {
   "cell_type": "code",
   "execution_count": 53,
   "id": "7db38ec0",
   "metadata": {},
   "outputs": [
    {
     "data": {
      "text/plain": [
       "(24606, 37)"
      ]
     },
     "execution_count": 53,
     "metadata": {},
     "output_type": "execute_result"
    }
   ],
   "source": [
    "df_all_data.shape"
   ]
  },
  {
   "cell_type": "code",
   "execution_count": 54,
   "id": "4979b254",
   "metadata": {},
   "outputs": [],
   "source": [
    "df_res = df_all_data.merge(df, on='application_number', how='inner')"
   ]
  },
  {
   "cell_type": "code",
   "execution_count": 55,
   "id": "ea953a4d",
   "metadata": {},
   "outputs": [
    {
     "data": {
      "text/plain": [
       "(43472, 38)"
      ]
     },
     "execution_count": 55,
     "metadata": {},
     "output_type": "execute_result"
    }
   ],
   "source": [
    "df_res.shape"
   ]
  },
  {
   "cell_type": "code",
   "execution_count": 70,
   "id": "376f8c8e",
   "metadata": {},
   "outputs": [
    {
     "data": {
      "image/png": "[encoded data removed]",
      "text/plain": [
       "<Figure size 1000x600 with 1 Axes>"
      ]
     },
     "metadata": {},
     "output_type": "display_data"
    }
   ],
   "source": [
    "# Calculate the percentage of women and filter clusters with at least 40% women\n",
    "min_women = 90\n",
    "clusters_with_women = df_res.groupby('cluster_id').apply(\n",
    "    lambda x: pd.Series({\n",
    "        'percent_women': (x['one_if_male'] == 0).mean() * 100,\n",
    "        'percent_rejects': (x['one_if_patented'] == 0).mean() * 100\n",
    "    })\n",
    ").query(f'percent_women >= {min_women}')\n",
    "\n",
    "# Evaluate clusters based on varying rejection thresholds (10% to 100%)\n",
    "rejection_thresholds = list(range(0, 101, 10))\n",
    "results = {threshold: [] for threshold in rejection_thresholds}\n",
    "for threshold in rejection_thresholds:\n",
    "    results[threshold] = clusters_with_women[clusters_with_women['percent_rejects'] >= threshold].index.tolist()\n",
    "\n",
    "# Plotting the results\n",
    "fig, ax = plt.subplots(figsize=(10, 6))\n",
    "bar_width = 0.35\n",
    "opacity = 0.8\n",
    "\n",
    "bars = []\n",
    "for i, threshold in enumerate(rejection_thresholds):\n",
    "    bar = ax.bar(i, len(results[threshold]), bar_width, alpha=opacity, label=f'At least {threshold}% rejections')\n",
    "    bars.append(bar)\n",
    "\n",
    "ax.set_xlabel('Rejection Thresholds (%)')\n",
    "ax.set_ylabel('Number of Clusters')\n",
    "ax.set_title(f'Clusters with At Least {min_women}% Women and Varying Rejection Percentages')\n",
    "ax.set_xticks(range(len(rejection_thresholds)))\n",
    "ax.set_xticklabels([f'≥{x}%' for x in rejection_thresholds])\n",
    "ax.legend()\n",
    "\n",
    "# Adding data labels\n",
    "for bar in bars:\n",
    "    for rect in bar:\n",
    "        height = rect.get_height()\n",
    "        ax.annotate('{}'.format(height),\n",
    "                    xy=(rect.get_x() + rect.get_width() / 2, height),\n",
    "                    xytext=(0, 3),  # 3 points vertical offset\n",
    "                    textcoords=\"offset points\",\n",
    "                    ha='center', va='bottom')\n",
    "\n",
    "plt.tight_layout()\n",
    "plt.show()"
   ]
  },
  {
   "cell_type": "code",
   "execution_count": 72,
   "id": "d5d92b5b",
   "metadata": {},
   "outputs": [
    {
     "data": {
      "text/plain": [
       "0.39"
      ]
     },
     "execution_count": 72,
     "metadata": {},
     "output_type": "execute_result"
    }
   ],
   "source": [
    "round(335/861,2)"
   ]
  },
  {
   "cell_type": "code",
   "execution_count": 80,
   "id": "6c132563",
   "metadata": {},
   "outputs": [
    {
     "data": {
      "image/png": "[encoded data removed]",
      "text/plain": [
       "<Figure size 1000x600 with 1 Axes>"
      ]
     },
     "metadata": {},
     "output_type": "display_data"
    }
   ],
   "source": [
    "tatoal_val = 861\n",
    "lst = {}\n",
    "range_women = list(range(50, 101, 10))\n",
    "for min_women in range_women:\n",
    "    # Calculate the percentage of women and filter clusters with at least 40% women\n",
    "    clusters_with_women = df_res.groupby('cluster_id').apply(\n",
    "        lambda x: pd.Series({\n",
    "            'percent_women': (x['one_if_male'] == 0).mean() * 100,\n",
    "            'percent_rejects': (x['one_if_patented'] == 0).mean() * 100\n",
    "        })\n",
    "    ).query(f'percent_women >= {min_women}')\n",
    "\n",
    "    # Evaluate clusters based on varying rejection thresholds (10% to 100%)\n",
    "    rejection_thresholds = range_women\n",
    "    results = {threshold: [] for threshold in rejection_thresholds}\n",
    "    lst[min_women] = clusters_with_women[clusters_with_women['percent_rejects'] >= 0].index.tolist()\n",
    "\n",
    "# Plotting the results\n",
    "fig, ax = plt.subplots(figsize=(10, 6))\n",
    "bar_width = 0.35\n",
    "opacity = 0.8\n",
    "\n",
    "bars = []\n",
    "for i, threshold in enumerate(range_women):\n",
    "    bar = ax.bar(i, round(min(1, len(lst[threshold]) / 861), 2), bar_width, alpha=opacity, label=f'At least {threshold}% women')\n",
    "    bars.append(bar)\n",
    "\n",
    "ax.set_xlabel('Feamale Thresholds (%)')\n",
    "ax.set_ylabel('Number of Clusters')\n",
    "ax.set_title(f'Clusters with At Least 50% Rejection')\n",
    "ax.set_xticks(range(len(range_women)))\n",
    "ax.set_xticklabels([f'≥{x}%' for x in range_women])\n",
    "# ax.legend()\n",
    "\n",
    "# Adding data labels\n",
    "for bar in bars:\n",
    "    for rect in bar:\n",
    "        height = rect.get_height()\n",
    "        ax.annotate('{}'.format(height),\n",
    "                    xy=(rect.get_x() + rect.get_width() / 2, height),\n",
    "                    xytext=(0, 3),  # 3 points vertical offset\n",
    "                    textcoords=\"offset points\",\n",
    "                    ha='center', va='bottom')\n",
    "\n",
    "plt.tight_layout()\n",
    "plt.show()"
   ]
  },
  {
   "cell_type": "code",
   "execution_count": null,
   "id": "2ea594cd",
   "metadata": {},
   "outputs": [],
   "source": []
  }
 ],
 "metadata": {
  "kernelspec": {
   "display_name": "Python 3 (ipykernel)",
   "language": "python",
   "name": "python3"
  },
  "language_info": {
   "codemirror_mode": {
    "name": "ipython",
    "version": 3
   },
   "file_extension": ".py",
   "mimetype": "text/x-python",
   "name": "python",
   "nbconvert_exporter": "python",
   "pygments_lexer": "ipython3",
   "version": "3.9.13"
  }
 },
 "nbformat": 4,
 "nbformat_minor": 5
}
